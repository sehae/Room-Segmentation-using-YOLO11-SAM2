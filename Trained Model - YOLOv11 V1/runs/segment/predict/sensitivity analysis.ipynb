{
 "cells": [
  {
   "cell_type": "code",
   "id": "initial_id",
   "metadata": {
    "collapsed": true,
    "ExecuteTime": {
     "end_time": "2025-01-04T14:04:14.804182Z",
     "start_time": "2025-01-04T14:04:14.797129Z"
    }
   },
   "source": [
    "from collections import namedtuple\n",
    "import numpy as np\n",
    "import cv2\n",
    "# define the `Detection` object\n",
    "Detection = namedtuple(\"Detection\", [\"image_path\", \"gt\", \"pred\"])\n",
    "\n",
    "\n",
    "def bb_intersection_over_union(boxA, boxB):\n",
    "\t# determine the (x, y)-coordinates of the intersection rectangle\n",
    "\txA = max(boxA[0], boxB[0])\n",
    "\tyA = max(boxA[1], boxB[1])\n",
    "\txB = min(boxA[2], boxB[2])\n",
    "\tyB = min(boxA[3], boxB[3])\n",
    "\t# compute the area of intersection rectangle\n",
    "\tinterArea = max(0, xB - xA + 1) * max(0, yB - yA + 1)\n",
    "\t# compute the area of both the prediction and ground-truth\n",
    "\t# rectangles\n",
    "\tboxAArea = (boxA[2] - boxA[0] + 1) * (boxA[3] - boxA[1] + 1)\n",
    "\tboxBArea = (boxB[2] - boxB[0] + 1) * (boxB[3] - boxB[1] + 1)\n",
    "\t# compute the intersection over union by taking the intersection\n",
    "\t# area and dividing it by the sum of prediction + ground-truth\n",
    "\t# areas - the intersection area\n",
    "\tiou = interArea / float(boxAArea + boxBArea - interArea)\n",
    "\t# return the intersection over union value\n",
    "\treturn iou\n",
    "\n",
    "examples = {\n",
    "    Detection(\"Data/sample3.jpg\", [[50, 50, 100, 100]], [[48, 48, 102, 102]]),\n",
    "}\n"
   ],
   "outputs": [
    {
     "name": "stdout",
     "output_type": "stream",
     "text": [
      "Precision: 0.50\n"
     ]
    }
   ],
   "execution_count": 4
  },
  {
   "metadata": {
    "ExecuteTime": {
     "end_time": "2025-01-04T14:04:18.323372Z",
     "start_time": "2025-01-04T14:04:18.317833Z"
    }
   },
   "cell_type": "code",
   "source": [
    "def evaluate_recall(predicted_boxes, predicted_classes, ground_truth_boxes, ground_truth_classes, iou_threshold=0.5):\n",
    "    \"\"\"Evaluate recall for a single image.\"\"\"\n",
    "    true_positives = 0\n",
    "    matched_ground_truths = set()\n",
    "\n",
    "    for i, gt_box in enumerate(ground_truth_boxes):\n",
    "        gt_class = ground_truth_classes[i]\n",
    "        matched = False\n",
    "\n",
    "        for j, pred_box in enumerate(predicted_boxes):\n",
    "            if calculate_iou(pred_box, gt_box) >= iou_threshold and predicted_classes[j] == gt_class:\n",
    "                true_positives += 1\n",
    "                matched_ground_truths.add(i)\n",
    "                matched = True\n",
    "                break\n",
    "\n",
    "    false_negatives = len(ground_truth_boxes) - len(matched_ground_truths)\n",
    "\n",
    "    # Calculate recall\n",
    "    recall = true_positives / (true_positives + false_negatives) if (true_positives + false_negatives) > 0 else 0.0\n",
    "    return recall\n",
    "\n",
    "# Example usage\n",
    "predicted_boxes = [[50, 50, 100, 100], [30, 30, 70, 70]]  # x1, y1, x2, y2\n",
    "predicted_classes = [1, 2]\n",
    "ground_truth_boxes = [[48, 48, 102, 102], [60, 60, 110, 110]]\n",
    "ground_truth_classes = [1, 2]\n",
    "\n",
    "recall = evaluate_recall(predicted_boxes, predicted_classes, ground_truth_boxes, ground_truth_classes)\n",
    "print(f\"Recall: {recall:.2f}\")\n"
   ],
   "id": "71519696c2386838",
   "outputs": [
    {
     "name": "stdout",
     "output_type": "stream",
     "text": [
      "Recall: 0.50\n"
     ]
    }
   ],
   "execution_count": 5
  },
  {
   "metadata": {
    "ExecuteTime": {
     "end_time": "2025-01-04T14:04:39.029076Z",
     "start_time": "2025-01-04T14:04:38.991206Z"
    }
   },
   "cell_type": "code",
   "source": [
    "import numpy as np\n",
    "\n",
    "def calculate_iou(box1, box2):\n",
    "    \"\"\"Compute Intersection over Union (IoU) between two bounding boxes.\"\"\"\n",
    "    x1 = max(box1[0], box2[0])\n",
    "    y1 = max(box1[1], box2[1])\n",
    "    x2 = min(box1[2], box2[2])\n",
    "    y2 = min(box1[3], box2[3])\n",
    "\n",
    "    inter_area = max(0, x2 - x1) * max(0, y2 - y1)\n",
    "    box1_area = (box1[2] - box1[0]) * (box1[3] - box1[1])\n",
    "    box2_area = (box2[2] - box2[0]) * (box2[3] - box2[1])\n",
    "    union_area = box1_area + box2_area - inter_area\n",
    "\n",
    "    return inter_area / union_area if union_area > 0 else 0.0\n",
    "\n",
    "def compute_ap(pred_boxes, pred_scores, pred_classes, gt_boxes, gt_classes, iou_threshold=0.5):\n",
    "    \"\"\"Compute Average Precision (AP) for a single class.\"\"\"\n",
    "    # Sort predictions by confidence score\n",
    "    sorted_indices = np.argsort(-np.array(pred_scores))\n",
    "    pred_boxes = [pred_boxes[i] for i in sorted_indices]\n",
    "    pred_classes = [pred_classes[i] for i in sorted_indices]\n",
    "\n",
    "    tp = np.zeros(len(pred_boxes))\n",
    "    fp = np.zeros(len(pred_boxes))\n",
    "    matched_gt = set()\n",
    "\n",
    "    for i, pred_box in enumerate(pred_boxes):\n",
    "        pred_class = pred_classes[i]\n",
    "        best_iou = 0\n",
    "        best_gt_idx = -1\n",
    "\n",
    "        for j, gt_box in enumerate(gt_boxes):\n",
    "            if j in matched_gt:\n",
    "                continue\n",
    "            if pred_class == gt_classes[j]:\n",
    "                iou = calculate_iou(pred_box, gt_box)\n",
    "                if iou > best_iou:\n",
    "                    best_iou = iou\n",
    "                    best_gt_idx = j\n",
    "\n",
    "        if best_iou >= iou_threshold:\n",
    "            tp[i] = 1\n",
    "            matched_gt.add(best_gt_idx)\n",
    "        else:\n",
    "            fp[i] = 1\n",
    "\n",
    "    # Calculate precision and recall\n",
    "    cum_tp = np.cumsum(tp)\n",
    "    cum_fp = np.cumsum(fp)\n",
    "    precision = cum_tp / (cum_tp + cum_fp)\n",
    "    recall = cum_tp / len(gt_boxes)\n",
    "\n",
    "    # Interpolate precision-recall curve and calculate AP\n",
    "    precision = np.concatenate(([0], precision, [0]))\n",
    "    recall = np.concatenate(([0], recall, [1]))\n",
    "    for i in range(len(precision) - 1, 0, -1):\n",
    "        precision[i - 1] = max(precision[i - 1], precision[i])\n",
    "    indices = np.where(recall[1:] != recall[:-1])[0]\n",
    "    ap = np.sum((recall[indices + 1] - recall[indices]) * precision[indices + 1])\n",
    "    return ap\n",
    "\n",
    "def compute_map50(predictions, ground_truths, num_classes, iou_threshold=0.5):\n",
    "    \"\"\"Compute mAP@50 for all classes.\"\"\"\n",
    "    ap_values = []\n",
    "    for c in range(num_classes):\n",
    "        # Filter predictions and ground truths by class\n",
    "        pred_boxes = [pred[\"box\"] for pred in predictions if pred[\"class\"] == c]\n",
    "        pred_scores = [pred[\"score\"] for pred in predictions if pred[\"class\"] == c]\n",
    "        pred_classes = [pred[\"class\"] for pred in predictions if pred[\"class\"] == c]\n",
    "\n",
    "        gt_boxes = [gt[\"box\"] for gt in ground_truths if gt[\"class\"] == c]\n",
    "        gt_classes = [gt[\"class\"] for gt in ground_truths if gt[\"class\"] == c]\n",
    "\n",
    "        if len(gt_boxes) > 0:\n",
    "            ap = compute_ap(pred_boxes, pred_scores, pred_classes, gt_boxes, gt_classes, iou_threshold)\n",
    "            ap_values.append(ap)\n",
    "\n",
    "    return np.mean(ap_values) if ap_values else 0.0\n",
    "\n",
    "# Example usage\n",
    "predictions = [\n",
    "    {\"box\": [50, 50, 100, 100], \"score\": 0.9, \"class\": 0},\n",
    "    {\"box\": [30, 30, 70, 70], \"score\": 0.8, \"class\": 1},\n",
    "]\n",
    "ground_truths = [\n",
    "    {\"box\": [48, 48, 102, 102], \"class\": 0},\n",
    "    {\"box\": [28, 28, 72, 72], \"class\": 1},\n",
    "]\n",
    "num_classes = 2\n",
    "\n",
    "map50 = compute_map50(predictions, ground_truths, num_classes)\n",
    "print(f\"mAP@50: {map50:.2f}\")\n"
   ],
   "id": "a5f98b8c8aab9263",
   "outputs": [
    {
     "name": "stdout",
     "output_type": "stream",
     "text": [
      "mAP@50: 1.00\n"
     ]
    }
   ],
   "execution_count": 6
  }
 ],
 "metadata": {
  "kernelspec": {
   "display_name": "Python 3",
   "language": "python",
   "name": "python3"
  },
  "language_info": {
   "codemirror_mode": {
    "name": "ipython",
    "version": 2
   },
   "file_extension": ".py",
   "mimetype": "text/x-python",
   "name": "python",
   "nbconvert_exporter": "python",
   "pygments_lexer": "ipython2",
   "version": "2.7.6"
  }
 },
 "nbformat": 4,
 "nbformat_minor": 5
}
