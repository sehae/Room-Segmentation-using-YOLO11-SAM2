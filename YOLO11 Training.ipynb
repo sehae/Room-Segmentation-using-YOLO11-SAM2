{
 "cells": [
  {
   "cell_type": "code",
   "id": "initial_id",
   "metadata": {
    "collapsed": true,
    "ExecuteTime": {
     "end_time": "2025-01-03T16:48:35.098401Z",
     "start_time": "2025-01-03T16:48:34.959048Z"
    }
   },
   "source": "!nvidia-smi",
   "outputs": [
    {
     "name": "stderr",
     "output_type": "stream",
     "text": [
      "'nvidia-smi' is not recognized as an internal or external command,\n",
      "operable program or batch file.\n"
     ]
    }
   ],
   "execution_count": 1
  },
  {
   "metadata": {},
   "cell_type": "code",
   "outputs": [],
   "execution_count": null,
   "source": [
    "import ultralytics\n",
    "ultralytics.checks()"
   ],
   "id": "3d1045f6ffd0a1a8"
  },
  {
   "metadata": {},
   "cell_type": "code",
   "outputs": [],
   "execution_count": null,
   "source": [
    "from ultralytics import YOLO\n",
    "from IPython.display import Image"
   ],
   "id": "64b619ae1f1b8ddc"
  },
  {
   "metadata": {},
   "cell_type": "code",
   "outputs": [],
   "execution_count": null,
   "source": [
    "!pip install roboflow\n",
    "\n",
    "from roboflow import Roboflow\n",
    "rf = Roboflow(api_key=\"mzKxz12MYlYgSE1rEW0h\")\n",
    "project = rf.workspace(\"antstryout\").project(\"room-segmentation-x9htn\")\n",
    "version = project.version(11)\n",
    "dataset = version.download(\"yolov11\")\n"
   ],
   "id": "8554ef400a01349a"
  },
  {
   "metadata": {},
   "cell_type": "code",
   "outputs": [],
   "execution_count": null,
   "source": "dataset.location",
   "id": "6773eedab1ec116e"
  },
  {
   "metadata": {},
   "cell_type": "code",
   "outputs": [],
   "execution_count": null,
   "source": "!yolo task=detect mode=train data={dataset.location}/data.yaml model=\"yolo11n.pt\" epochs=50 imgsz=640",
   "id": "291401e00b29d74f"
  },
  {
   "metadata": {},
   "cell_type": "code",
   "outputs": [],
   "execution_count": null,
   "source": "Image(\"/content/runs/detect/train/confusion_matrix.png\", width=1200)",
   "id": "b857ce0aa7672189"
  },
  {
   "metadata": {},
   "cell_type": "code",
   "outputs": [],
   "execution_count": null,
   "source": "Image(\"/content/runs/detect/train/labels.jpg\", width=600)",
   "id": "c838504cd62cfdd6"
  },
  {
   "metadata": {},
   "cell_type": "code",
   "outputs": [],
   "execution_count": null,
   "source": "Image(\"/content/runs/detect/train/results.png\", width=1200)",
   "id": "dbf1df837bd9deeb"
  },
  {
   "metadata": {},
   "cell_type": "code",
   "outputs": [],
   "execution_count": null,
   "source": "Image(\"/content/runs/detect/train/train_batch0.jpg\", width=1200)",
   "id": "2b2e50cedf8f0a0"
  },
  {
   "metadata": {},
   "cell_type": "code",
   "outputs": [],
   "execution_count": null,
   "source": "Image(\"/content/runs/detect/train/val_batch1_pred.jpg\", width=1200)",
   "id": "2a370cd92ffc4972"
  },
  {
   "metadata": {},
   "cell_type": "code",
   "outputs": [],
   "execution_count": null,
   "source": "!yolo task=detect mode=val model=\"/content/runs/detect/train/weights/best.pt\" data={dataset.location}/data.yaml",
   "id": "b4071cc3ec5dacf6"
  },
  {
   "metadata": {},
   "cell_type": "code",
   "outputs": [],
   "execution_count": null,
   "source": "!yolo task=detect mode=predict model=\"/content/runs/detect/train/weights/best.pt\" conf=0.25 source={dataset.location}/test/images save=True",
   "id": "acb14bf7cc57951c"
  },
  {
   "metadata": {},
   "cell_type": "code",
   "outputs": [],
   "execution_count": null,
   "source": [
    "import glob\n",
    "import os\n",
    "from IPython.display import Image as IPyImage, display\n",
    "\n",
    "latest_folder = max(glob.glob('/content/runs/detect/predict*/'), key=os.path.getmtime)\n",
    "for img in glob.glob(f'{latest_folder}/*.jpg')[1:4]:\n",
    "  display(IPyImage(filename=img, width=600))\n",
    "  print(\"\\n\")"
   ],
   "id": "5f4a7217764d34aa"
  },
  {
   "metadata": {},
   "cell_type": "code",
   "outputs": [],
   "execution_count": null,
   "source": "!gdown \"https://docs.google.com/uc?export=download&id=1I9mXgFXTOWyrxdU_TMR0w_g6CPGgm2ER\"",
   "id": "bb61c5aaf696498f"
  },
  {
   "metadata": {},
   "cell_type": "code",
   "outputs": [],
   "execution_count": null,
   "source": "!yolo task=detect mode=predict model=\"/content/runs/detect/train/weights/best.pt\" conf=0.25 source=sample.jpg save=True",
   "id": "ce042db9d21e8787"
  }
 ],
 "metadata": {
  "kernelspec": {
   "display_name": "Python 3",
   "language": "python",
   "name": "python3"
  },
  "language_info": {
   "codemirror_mode": {
    "name": "ipython",
    "version": 2
   },
   "file_extension": ".py",
   "mimetype": "text/x-python",
   "name": "python",
   "nbconvert_exporter": "python",
   "pygments_lexer": "ipython2",
   "version": "2.7.6"
  }
 },
 "nbformat": 4,
 "nbformat_minor": 5
}
